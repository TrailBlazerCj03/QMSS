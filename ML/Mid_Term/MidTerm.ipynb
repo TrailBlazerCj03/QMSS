{
 "cells": [
  {
   "cell_type": "code",
   "execution_count": 1,
   "metadata": {},
   "outputs": [],
   "source": [
    "import pandas as pd\n",
    "import numpy as np\n",
    "import matplotlib.pyplot as plt\n",
    "import seaborn as sns\n",
    "from scipy import stats\n",
    "from sklearn.neighbors import KNeighborsClassifier\n",
    "from sklearn.linear_model import LogisticRegression\n",
    "from sklearn import preprocessing\n",
    "from sklearn import utils\n",
    "from sklearn.model_selection import train_test_split\n",
    "from __future__ import division"
   ]
  },
  {
   "cell_type": "markdown",
   "metadata": {},
   "source": [
    "#1.  Import the spam dataset and print the first six rows.  "
   ]
  },
  {
   "cell_type": "code",
   "execution_count": 2,
   "metadata": {},
   "outputs": [
    {
     "data": {
      "text/html": [
       "<div>\n",
       "<style scoped>\n",
       "    .dataframe tbody tr th:only-of-type {\n",
       "        vertical-align: middle;\n",
       "    }\n",
       "\n",
       "    .dataframe tbody tr th {\n",
       "        vertical-align: top;\n",
       "    }\n",
       "\n",
       "    .dataframe thead th {\n",
       "        text-align: right;\n",
       "    }\n",
       "</style>\n",
       "<table border=\"1\" class=\"dataframe\">\n",
       "  <thead>\n",
       "    <tr style=\"text-align: right;\">\n",
       "      <th></th>\n",
       "      <th>word_freq_make:</th>\n",
       "      <th>word_freq_address:</th>\n",
       "      <th>word_freq_all:</th>\n",
       "      <th>word_freq_3d:</th>\n",
       "      <th>word_freq_our:</th>\n",
       "      <th>word_freq_over:</th>\n",
       "      <th>word_freq_remove:</th>\n",
       "      <th>word_freq_internet:</th>\n",
       "      <th>word_freq_order:</th>\n",
       "      <th>word_freq_mail:</th>\n",
       "      <th>...</th>\n",
       "      <th>char_freq_;:</th>\n",
       "      <th>char_freq_(:</th>\n",
       "      <th>char_freq_[:</th>\n",
       "      <th>char_freq_!:</th>\n",
       "      <th>char_freq_$:</th>\n",
       "      <th>char_freq_#:</th>\n",
       "      <th>capital_run_length_average:</th>\n",
       "      <th>capital_run_length_longest:</th>\n",
       "      <th>capital_run_length_total:</th>\n",
       "      <th>spam</th>\n",
       "    </tr>\n",
       "  </thead>\n",
       "  <tbody>\n",
       "    <tr>\n",
       "      <th>0</th>\n",
       "      <td>0.00</td>\n",
       "      <td>0.64</td>\n",
       "      <td>0.64</td>\n",
       "      <td>0.0</td>\n",
       "      <td>0.32</td>\n",
       "      <td>0.00</td>\n",
       "      <td>0.00</td>\n",
       "      <td>0.00</td>\n",
       "      <td>0.00</td>\n",
       "      <td>0.00</td>\n",
       "      <td>...</td>\n",
       "      <td>0.00</td>\n",
       "      <td>0.000</td>\n",
       "      <td>0.0</td>\n",
       "      <td>0.778</td>\n",
       "      <td>0.000</td>\n",
       "      <td>0.000</td>\n",
       "      <td>3.756</td>\n",
       "      <td>61</td>\n",
       "      <td>278</td>\n",
       "      <td>1</td>\n",
       "    </tr>\n",
       "    <tr>\n",
       "      <th>1</th>\n",
       "      <td>0.21</td>\n",
       "      <td>0.28</td>\n",
       "      <td>0.50</td>\n",
       "      <td>0.0</td>\n",
       "      <td>0.14</td>\n",
       "      <td>0.28</td>\n",
       "      <td>0.21</td>\n",
       "      <td>0.07</td>\n",
       "      <td>0.00</td>\n",
       "      <td>0.94</td>\n",
       "      <td>...</td>\n",
       "      <td>0.00</td>\n",
       "      <td>0.132</td>\n",
       "      <td>0.0</td>\n",
       "      <td>0.372</td>\n",
       "      <td>0.180</td>\n",
       "      <td>0.048</td>\n",
       "      <td>5.114</td>\n",
       "      <td>101</td>\n",
       "      <td>1028</td>\n",
       "      <td>1</td>\n",
       "    </tr>\n",
       "    <tr>\n",
       "      <th>2</th>\n",
       "      <td>0.06</td>\n",
       "      <td>0.00</td>\n",
       "      <td>0.71</td>\n",
       "      <td>0.0</td>\n",
       "      <td>1.23</td>\n",
       "      <td>0.19</td>\n",
       "      <td>0.19</td>\n",
       "      <td>0.12</td>\n",
       "      <td>0.64</td>\n",
       "      <td>0.25</td>\n",
       "      <td>...</td>\n",
       "      <td>0.01</td>\n",
       "      <td>0.143</td>\n",
       "      <td>0.0</td>\n",
       "      <td>0.276</td>\n",
       "      <td>0.184</td>\n",
       "      <td>0.010</td>\n",
       "      <td>9.821</td>\n",
       "      <td>485</td>\n",
       "      <td>2259</td>\n",
       "      <td>1</td>\n",
       "    </tr>\n",
       "    <tr>\n",
       "      <th>3</th>\n",
       "      <td>0.00</td>\n",
       "      <td>0.00</td>\n",
       "      <td>0.00</td>\n",
       "      <td>0.0</td>\n",
       "      <td>0.63</td>\n",
       "      <td>0.00</td>\n",
       "      <td>0.31</td>\n",
       "      <td>0.63</td>\n",
       "      <td>0.31</td>\n",
       "      <td>0.63</td>\n",
       "      <td>...</td>\n",
       "      <td>0.00</td>\n",
       "      <td>0.137</td>\n",
       "      <td>0.0</td>\n",
       "      <td>0.137</td>\n",
       "      <td>0.000</td>\n",
       "      <td>0.000</td>\n",
       "      <td>3.537</td>\n",
       "      <td>40</td>\n",
       "      <td>191</td>\n",
       "      <td>1</td>\n",
       "    </tr>\n",
       "    <tr>\n",
       "      <th>4</th>\n",
       "      <td>0.00</td>\n",
       "      <td>0.00</td>\n",
       "      <td>0.00</td>\n",
       "      <td>0.0</td>\n",
       "      <td>0.63</td>\n",
       "      <td>0.00</td>\n",
       "      <td>0.31</td>\n",
       "      <td>0.63</td>\n",
       "      <td>0.31</td>\n",
       "      <td>0.63</td>\n",
       "      <td>...</td>\n",
       "      <td>0.00</td>\n",
       "      <td>0.135</td>\n",
       "      <td>0.0</td>\n",
       "      <td>0.135</td>\n",
       "      <td>0.000</td>\n",
       "      <td>0.000</td>\n",
       "      <td>3.537</td>\n",
       "      <td>40</td>\n",
       "      <td>191</td>\n",
       "      <td>1</td>\n",
       "    </tr>\n",
       "    <tr>\n",
       "      <th>5</th>\n",
       "      <td>0.00</td>\n",
       "      <td>0.00</td>\n",
       "      <td>0.00</td>\n",
       "      <td>0.0</td>\n",
       "      <td>1.85</td>\n",
       "      <td>0.00</td>\n",
       "      <td>0.00</td>\n",
       "      <td>1.85</td>\n",
       "      <td>0.00</td>\n",
       "      <td>0.00</td>\n",
       "      <td>...</td>\n",
       "      <td>0.00</td>\n",
       "      <td>0.223</td>\n",
       "      <td>0.0</td>\n",
       "      <td>0.000</td>\n",
       "      <td>0.000</td>\n",
       "      <td>0.000</td>\n",
       "      <td>3.000</td>\n",
       "      <td>15</td>\n",
       "      <td>54</td>\n",
       "      <td>1</td>\n",
       "    </tr>\n",
       "  </tbody>\n",
       "</table>\n",
       "<p>6 rows × 58 columns</p>\n",
       "</div>"
      ],
      "text/plain": [
       "   word_freq_make:  word_freq_address:  word_freq_all:  word_freq_3d:  \\\n",
       "0             0.00                0.64            0.64            0.0   \n",
       "1             0.21                0.28            0.50            0.0   \n",
       "2             0.06                0.00            0.71            0.0   \n",
       "3             0.00                0.00            0.00            0.0   \n",
       "4             0.00                0.00            0.00            0.0   \n",
       "5             0.00                0.00            0.00            0.0   \n",
       "\n",
       "   word_freq_our:  word_freq_over:  word_freq_remove:  word_freq_internet:  \\\n",
       "0            0.32             0.00               0.00                 0.00   \n",
       "1            0.14             0.28               0.21                 0.07   \n",
       "2            1.23             0.19               0.19                 0.12   \n",
       "3            0.63             0.00               0.31                 0.63   \n",
       "4            0.63             0.00               0.31                 0.63   \n",
       "5            1.85             0.00               0.00                 1.85   \n",
       "\n",
       "   word_freq_order:  word_freq_mail:  ...   char_freq_;:  char_freq_(:  \\\n",
       "0              0.00             0.00  ...           0.00         0.000   \n",
       "1              0.00             0.94  ...           0.00         0.132   \n",
       "2              0.64             0.25  ...           0.01         0.143   \n",
       "3              0.31             0.63  ...           0.00         0.137   \n",
       "4              0.31             0.63  ...           0.00         0.135   \n",
       "5              0.00             0.00  ...           0.00         0.223   \n",
       "\n",
       "   char_freq_[:  char_freq_!:  char_freq_$:  char_freq_#:  \\\n",
       "0           0.0         0.778         0.000         0.000   \n",
       "1           0.0         0.372         0.180         0.048   \n",
       "2           0.0         0.276         0.184         0.010   \n",
       "3           0.0         0.137         0.000         0.000   \n",
       "4           0.0         0.135         0.000         0.000   \n",
       "5           0.0         0.000         0.000         0.000   \n",
       "\n",
       "   capital_run_length_average:  capital_run_length_longest:  \\\n",
       "0                        3.756                           61   \n",
       "1                        5.114                          101   \n",
       "2                        9.821                          485   \n",
       "3                        3.537                           40   \n",
       "4                        3.537                           40   \n",
       "5                        3.000                           15   \n",
       "\n",
       "   capital_run_length_total:  spam  \n",
       "0                        278     1  \n",
       "1                       1028     1  \n",
       "2                       2259     1  \n",
       "3                        191     1  \n",
       "4                        191     1  \n",
       "5                         54     1  \n",
       "\n",
       "[6 rows x 58 columns]"
      ]
     },
     "execution_count": 2,
     "metadata": {},
     "output_type": "execute_result"
    }
   ],
   "source": [
    "dataDir=\"./Mid_Term_Data/spam_dataset.csv\"\n",
    "df=pd.read_csv(dataDir)\n",
    "df.head(6)"
   ]
  },
  {
   "cell_type": "code",
   "execution_count": 3,
   "metadata": {},
   "outputs": [
    {
     "name": "stdout",
     "output_type": "stream",
     "text": [
      "(4601, 58)\n",
      "(4601, 58)\n"
     ]
    }
   ],
   "source": [
    "#make sure to drop all NA value\n",
    "print(df.shape)\n",
    "df_1=df.dropna()\n",
    "print(df_1.shape)\n",
    "#SInce there is no difference, 'df' will continue to be used in the next for convenience."
   ]
  },
  {
   "cell_type": "markdown",
   "metadata": {},
   "source": [
    "#2. The dependent variable is \"spam\" where one indicates that an email is spam and zero otherwise.  Which three variables in the dataset do you think will be important predictors in a model of spam?  Why?"
   ]
  },
  {
   "cell_type": "markdown",
   "metadata": {},
   "source": [
    "In my perspective, word_freq_business, word_freq_conference, char_freq_! is the three most important predictors in a model of spam. Usually spam emails are commercial emails and they usually ask for collaboration chances in business or ask you to attend some strange conferences. And to stress the significance of themselves, ! is the most frequent symbol in the email according to my experience.\n"
   ]
  },
  {
   "cell_type": "markdown",
   "metadata": {},
   "source": [
    "#3. Visualize the univariate distribution of each of the variables in the previous question.  "
   ]
  },
  {
   "cell_type": "code",
   "execution_count": 4,
   "metadata": {},
   "outputs": [
    {
     "data": {
      "text/plain": [
       "0    1\n",
       "1    1\n",
       "2    1\n",
       "3    1\n",
       "4    1\n",
       "Name: spam, dtype: int64"
      ]
     },
     "execution_count": 4,
     "metadata": {},
     "output_type": "execute_result"
    }
   ],
   "source": [
    "y=df[\"spam\"]\n",
    "y.head()"
   ]
  },
  {
   "cell_type": "code",
   "execution_count": 5,
   "metadata": {},
   "outputs": [
    {
     "name": "stdout",
     "output_type": "stream",
     "text": [
      "0    0.00\n",
      "1    0.07\n",
      "2    0.06\n",
      "3    0.00\n",
      "4    0.00\n",
      "Name: word_freq_business:, dtype: float64\n",
      "0    0.0\n",
      "1    0.0\n",
      "2    0.0\n",
      "3    0.0\n",
      "4    0.0\n",
      "Name: word_freq_conference:, dtype: float64\n",
      "0    0.778\n",
      "1    0.372\n",
      "2    0.276\n",
      "3    0.137\n",
      "4    0.135\n",
      "Name: char_freq_!:, dtype: float64\n"
     ]
    }
   ],
   "source": [
    "X1=df.iloc[:, 16]   #business\n",
    "X2=df.iloc[:, 47] #conference\n",
    "X3=df.iloc[:,51] #CHAR_!\n",
    "\n",
    "\n",
    "print (X1.head())\n",
    "print(X2.head())\n",
    "print(X3.head())"
   ]
  },
  {
   "cell_type": "code",
   "execution_count": 6,
   "metadata": {},
   "outputs": [
    {
     "data": {
      "text/html": [
       "<div>\n",
       "<style scoped>\n",
       "    .dataframe tbody tr th:only-of-type {\n",
       "        vertical-align: middle;\n",
       "    }\n",
       "\n",
       "    .dataframe tbody tr th {\n",
       "        vertical-align: top;\n",
       "    }\n",
       "\n",
       "    .dataframe thead th {\n",
       "        text-align: right;\n",
       "    }\n",
       "</style>\n",
       "<table border=\"1\" class=\"dataframe\">\n",
       "  <thead>\n",
       "    <tr style=\"text-align: right;\">\n",
       "      <th></th>\n",
       "      <th>word_freq_business:</th>\n",
       "      <th>word_freq_conference:</th>\n",
       "      <th>char_freq_!:</th>\n",
       "    </tr>\n",
       "  </thead>\n",
       "  <tbody>\n",
       "    <tr>\n",
       "      <th>0</th>\n",
       "      <td>0.00</td>\n",
       "      <td>0.0</td>\n",
       "      <td>0.778</td>\n",
       "    </tr>\n",
       "    <tr>\n",
       "      <th>1</th>\n",
       "      <td>0.07</td>\n",
       "      <td>0.0</td>\n",
       "      <td>0.372</td>\n",
       "    </tr>\n",
       "    <tr>\n",
       "      <th>2</th>\n",
       "      <td>0.06</td>\n",
       "      <td>0.0</td>\n",
       "      <td>0.276</td>\n",
       "    </tr>\n",
       "    <tr>\n",
       "      <th>3</th>\n",
       "      <td>0.00</td>\n",
       "      <td>0.0</td>\n",
       "      <td>0.137</td>\n",
       "    </tr>\n",
       "    <tr>\n",
       "      <th>4</th>\n",
       "      <td>0.00</td>\n",
       "      <td>0.0</td>\n",
       "      <td>0.135</td>\n",
       "    </tr>\n",
       "  </tbody>\n",
       "</table>\n",
       "</div>"
      ],
      "text/plain": [
       "   word_freq_business:  word_freq_conference:  char_freq_!:\n",
       "0                 0.00                    0.0         0.778\n",
       "1                 0.07                    0.0         0.372\n",
       "2                 0.06                    0.0         0.276\n",
       "3                 0.00                    0.0         0.137\n",
       "4                 0.00                    0.0         0.135"
      ]
     },
     "execution_count": 6,
     "metadata": {},
     "output_type": "execute_result"
    }
   ],
   "source": [
    "X=df.iloc[:,[16,47, 51]]\n",
    "X.head()"
   ]
  },
  {
   "cell_type": "code",
   "execution_count": 7,
   "metadata": {},
   "outputs": [
    {
     "name": "stderr",
     "output_type": "stream",
     "text": [
      "/anaconda3/lib/python3.6/site-packages/scipy/stats/stats.py:1713: FutureWarning: Using a non-tuple sequence for multidimensional indexing is deprecated; use `arr[tuple(seq)]` instead of `arr[seq]`. In the future this will be interpreted as an array index, `arr[np.array(seq)]`, which will result either in an error or a different result.\n",
      "  return np.add.reduce(sorted[indexer] * weights, axis=axis) / sumval\n",
      "/anaconda3/lib/python3.6/site-packages/matplotlib/axes/_axes.py:6462: UserWarning: The 'normed' kwarg is deprecated, and has been replaced by the 'density' kwarg.\n",
      "  warnings.warn(\"The 'normed' kwarg is deprecated, and has been \"\n"
     ]
    },
    {
     "data": {
      "image/png": "[encoded data removed]",
      "text/plain": [
       "<Figure size 432x288 with 1 Axes>"
      ]
     },
     "metadata": {},
     "output_type": "display_data"
    }
   ],
   "source": [
    "sns.set(color_codes=True)\n",
    "sns.distplot(X1);"
   ]
  },
  {
   "cell_type": "code",
   "execution_count": 8,
   "metadata": {},
   "outputs": [
    {
     "name": "stderr",
     "output_type": "stream",
     "text": [
      "/anaconda3/lib/python3.6/site-packages/scipy/stats/stats.py:1713: FutureWarning: Using a non-tuple sequence for multidimensional indexing is deprecated; use `arr[tuple(seq)]` instead of `arr[seq]`. In the future this will be interpreted as an array index, `arr[np.array(seq)]`, which will result either in an error or a different result.\n",
      "  return np.add.reduce(sorted[indexer] * weights, axis=axis) / sumval\n",
      "/anaconda3/lib/python3.6/site-packages/matplotlib/axes/_axes.py:6462: UserWarning: The 'normed' kwarg is deprecated, and has been replaced by the 'density' kwarg.\n",
      "  warnings.warn(\"The 'normed' kwarg is deprecated, and has been \"\n"
     ]
    },
    {
     "data": {
      "image/png": "[encoded data removed]",
      "text/plain": [
       "<Figure size 432x288 with 1 Axes>"
      ]
     },
     "metadata": {},
     "output_type": "display_data"
    }
   ],
   "source": [
    "sns.distplot(X2);"
   ]
  },
  {
   "cell_type": "code",
   "execution_count": 9,
   "metadata": {},
   "outputs": [
    {
     "name": "stderr",
     "output_type": "stream",
     "text": [
      "/anaconda3/lib/python3.6/site-packages/scipy/stats/stats.py:1713: FutureWarning: Using a non-tuple sequence for multidimensional indexing is deprecated; use `arr[tuple(seq)]` instead of `arr[seq]`. In the future this will be interpreted as an array index, `arr[np.array(seq)]`, which will result either in an error or a different result.\n",
      "  return np.add.reduce(sorted[indexer] * weights, axis=axis) / sumval\n",
      "/anaconda3/lib/python3.6/site-packages/matplotlib/axes/_axes.py:6462: UserWarning: The 'normed' kwarg is deprecated, and has been replaced by the 'density' kwarg.\n",
      "  warnings.warn(\"The 'normed' kwarg is deprecated, and has been \"\n"
     ]
    },
    {
     "data": {
      "image/png": "[encoded data removed]",
      "text/plain": [
       "<Figure size 432x288 with 1 Axes>"
      ]
     },
     "metadata": {},
     "output_type": "display_data"
    }
   ],
   "source": [
    "sns.distplot(X3,);"
   ]
  },
  {
   "cell_type": "code",
   "execution_count": 10,
   "metadata": {},
   "outputs": [
    {
     "name": "stderr",
     "output_type": "stream",
     "text": [
      "/anaconda3/lib/python3.6/site-packages/scipy/stats/stats.py:1713: FutureWarning: Using a non-tuple sequence for multidimensional indexing is deprecated; use `arr[tuple(seq)]` instead of `arr[seq]`. In the future this will be interpreted as an array index, `arr[np.array(seq)]`, which will result either in an error or a different result.\n",
      "  return np.add.reduce(sorted[indexer] * weights, axis=axis) / sumval\n",
      "/anaconda3/lib/python3.6/site-packages/matplotlib/axes/_axes.py:6462: UserWarning: The 'normed' kwarg is deprecated, and has been replaced by the 'density' kwarg.\n",
      "  warnings.warn(\"The 'normed' kwarg is deprecated, and has been \"\n"
     ]
    },
    {
     "data": {
      "image/png": "[encoded data removed]",
      "text/plain": [
       "<Figure size 432x288 with 1 Axes>"
      ]
     },
     "metadata": {},
     "output_type": "display_data"
    }
   ],
   "source": [
    "sns.distplot(y,kde=False, rug=True);"
   ]
  },
  {
   "cell_type": "markdown",
   "metadata": {},
   "source": [
    "#4. Name each of the supervised learning models that we have learned thus far that are used to predict dependent variables like \"spam\".   (Include models we have learned through class 5 only)."
   ]
  },
  {
   "cell_type": "markdown",
   "metadata": {},
   "source": [
    "1. K-Nearest Neighborhood;\n",
    "2. Linear Regression;\n",
    "3. Logistic Regression;\n",
    "4. Support Vector Machine;\n",
    "5. Decision Tree;\n",
    "6. Random Forest;"
   ]
  },
  {
   "cell_type": "markdown",
   "metadata": {},
   "source": [
    "#5. Describe the importance of training and test data.  Why do we separate data into these subsets?"
   ]
  },
  {
   "cell_type": "markdown",
   "metadata": {},
   "source": [
    "Generally speaking, it aims to avoid underfitting, overfitting and some other problems. \n",
    "\n",
    "Detailedly, training set and test set are used in distinct purposes. When training a model, it tries to find out some pattern in the  training data while minimizing the error rate.  After finishing trained the model, we should have a test it on fresh examples in order to avoid problems like overfitting. The purpose of the training dataset is to provide you with some algorithm. Test dataset, however, is used to assess how well your algorithm was trained with the training dataset. "
   ]
  },
  {
   "cell_type": "markdown",
   "metadata": {},
   "source": [
    "#6. What is k-fold cross validation and what do we use it for?"
   ]
  },
  {
   "cell_type": "markdown",
   "metadata": {},
   "source": [
    "Cross-validation is a resampling procedure used to evaluate machine learning models on a limited data sample. The procedure has a single parameter called k that refers to the number of groups that a given data sample is to be split into. \n",
    "\n",
    "Steps of k-fold:\n",
    "    a. Divide the data into K roughly equal parts, (ususally K=5 or 10);\n",
    "    b. for each k = 1, 2, . . . K, fit the model with parameter λ to the other K − 1 parts, giving $beta^(-k) (lamda)$ and compute its error in\n",
    "predicting the kth part Ek(lamda),\n",
    "    This gives the cross-validation error:\n",
    "    $$CV(lamda)=\\frac{1}{K}\\sum_{k=1}^K Ek(lamda)$$\n",
    "    c. do this for many values of λ and choose the value of λ that makes CV (λ) smallest.\n",
    "\n",
    "The fitting process optimizes the model parameters to make the model fit the training data as well as possible.\n",
    "   "
   ]
  },
  {
   "cell_type": "markdown",
   "metadata": {},
   "source": [
    "#7. How is k-fold cross validation different from stratified k-fold cross validation?"
   ]
  },
  {
   "cell_type": "markdown",
   "metadata": {},
   "source": [
    "Stratified means ensure relative class frequency in each fold reflect relative class frequencies on the whole dataset. Generally this is done in a supervised way for classification and aims to ensure each class is (approximately) equally represented across each test fold (which are of course combined in a complementary way to form training folds). Simply k-fold can be used in an unsupervised learning."
   ]
  },
  {
   "cell_type": "markdown",
   "metadata": {},
   "source": [
    "#8. Choose one model from question four.  Split the data into training and test subsets.  Build a model with the three variables in the dataset that you think will be good predictors of \"spam\".  Describe why you chose any particular parameters for your model (e.g.- if you used KNN how did you decide to choose a specific value for k).  Run the model and evaluate prediction error in two ways: A) On test data directly and B) using k-fold cross-validation.  "
   ]
  },
  {
   "cell_type": "code",
   "execution_count": 11,
   "metadata": {},
   "outputs": [
    {
     "name": "stdout",
     "output_type": "stream",
     "text": [
      "logreg .coef_: [[ 2.13495466 -4.30445844  1.97517449]]\n",
      "Training set score: 0.755\n",
      "Test set score: 0.757\n",
      "logreg.predict: [1 0 0 ... 0 0 1]\n"
     ]
    },
    {
     "data": {
      "text/plain": [
       "LogisticRegression(C=1e+90, class_weight=None, dual=False, fit_intercept=True,\n",
       "          intercept_scaling=1, max_iter=100, multi_class='ovr', n_jobs=1,\n",
       "          penalty='l2', random_state=None, solver='liblinear', tol=0.0001,\n",
       "          verbose=0, warm_start=False)"
      ]
     },
     "execution_count": 11,
     "metadata": {},
     "output_type": "execute_result"
    }
   ],
   "source": [
    "#Logistic model is chosen.\n",
    "X_train_1, X_test_1, y_train_1, y_test_1 = train_test_split(X, y, random_state=621) \n",
    "logreg = LogisticRegression(C=1e90).fit(X_train_1, y_train_1)\n",
    "\n",
    "print(\"logreg .coef_: {}\".format(logreg .coef_))\n",
    "\n",
    "print(\"Training set score: {:.3f}\".format(logreg.score(X_train_1, y_train_1)))\n",
    "print(\"Test set score: {:.3f}\".format(logreg.score(X_test_1, y_test_1)))\n",
    "\n",
    "predicted_vals = logreg.predict(X_test_1) # y_pred includes your predictions\n",
    "print(\"logreg.predict: {}\".format(predicted_vals))\n",
    "logreg"
   ]
  },
  {
   "cell_type": "code",
   "execution_count": 13,
   "metadata": {},
   "outputs": [
    {
     "name": "stdout",
     "output_type": "stream",
     "text": [
      "KFold:\n",
      "[0.20955483 0.28369565 0.87717391 0.90108696 0.8326087 ]\n",
      "StratifiedKFold:\n",
      "[0.76764387 0.74809989 0.76221498 0.75952122 0.74755169]\n",
      "RepeatedKFold:\n",
      "[0.76655809 0.74130435 0.7576087  0.76086957 0.77282609 0.76438654\n",
      " 0.75869565 0.74347826 0.75543478 0.77608696 0.76221498 0.74130435\n",
      " 0.74673913 0.79347826 0.74782609 0.77198697 0.75543478 0.76521739\n",
      " 0.75108696 0.75652174 0.76764387 0.70869565 0.76847826 0.75652174\n",
      " 0.77826087 0.75895765 0.76195652 0.75108696 0.75978261 0.76195652\n",
      " 0.74592834 0.75978261 0.77608696 0.74130435 0.76956522 0.73724213\n",
      " 0.775      0.76847826 0.74347826 0.76521739 0.7339848  0.7826087\n",
      " 0.74347826 0.76413043 0.76413043 0.75570033 0.79782609 0.73043478\n",
      " 0.7576087  0.7576087 ]\n"
     ]
    }
   ],
   "source": [
    "#import cross validation functions from sk learn\n",
    "\n",
    "from sklearn.model_selection import cross_val_score\n",
    "from sklearn.model_selection import StratifiedKFold\n",
    "from sklearn.model_selection import RepeatedKFold\n",
    "from sklearn.model_selection import KFold\n",
    "\n",
    "# K-Fold Cross Validatio\n",
    "kfold = KFold(n_splits=5)\n",
    "skfold = StratifiedKFold(n_splits=5, shuffle=True)\n",
    "rkf = RepeatedKFold(n_splits=5, n_repeats=10)\n",
    "print(\"KFold:\\n{}\".format(\n",
    "cross_val_score(LogisticRegression(), X, y, cv=kfold)))\n",
    "\n",
    "print(\"StratifiedKFold:\\n{}\".format(\n",
    "cross_val_score(LogisticRegression(), X, y, cv=skfold)))\n",
    "\n",
    "print(\"RepeatedKFold:\\n{}\".format(\n",
    "cross_val_score(LogisticRegression(), X, y, cv=rkf)))\n"
   ]
  },
  {
   "cell_type": "code",
   "execution_count": 14,
   "metadata": {},
   "outputs": [
    {
     "name": "stderr",
     "output_type": "stream",
     "text": [
      "/anaconda3/lib/python3.6/site-packages/statsmodels/genmod/families/family.py:880: RuntimeWarning: divide by zero encountered in true_divide\n",
      "  n_endog_mu = self._clean((1. - endog) / (1. - mu))\n",
      "/anaconda3/lib/python3.6/site-packages/statsmodels/genmod/families/family.py:932: RuntimeWarning: divide by zero encountered in true_divide\n",
      "  special.gammaln(n - y + 1) + y * np.log(mu / (1 - mu)) +\n",
      "/anaconda3/lib/python3.6/site-packages/statsmodels/genmod/families/family.py:932: RuntimeWarning: invalid value encountered in multiply\n",
      "  special.gammaln(n - y + 1) + y * np.log(mu / (1 - mu)) +\n",
      "/anaconda3/lib/python3.6/site-packages/statsmodels/genmod/families/family.py:933: RuntimeWarning: divide by zero encountered in log\n",
      "  n * np.log(1 - mu)) * var_weights\n"
     ]
    },
    {
     "data": {
      "text/html": [
       "<table class=\"simpletable\">\n",
       "<caption>Generalized Linear Model Regression Results</caption>\n",
       "<tr>\n",
       "  <th>Dep. Variable:</th>        <td>spam</td>       <th>  No. Observations:  </th>  <td>  3450</td>  \n",
       "</tr>\n",
       "<tr>\n",
       "  <th>Model:</th>                 <td>GLM</td>       <th>  Df Residuals:      </th>  <td>  3446</td>  \n",
       "</tr>\n",
       "<tr>\n",
       "  <th>Model Family:</th>       <td>Binomial</td>     <th>  Df Model:          </th>  <td>     3</td>  \n",
       "</tr>\n",
       "<tr>\n",
       "  <th>Link Function:</th>        <td>logit</td>      <th>  Scale:             </th> <td>  1.0000</td> \n",
       "</tr>\n",
       "<tr>\n",
       "  <th>Method:</th>               <td>IRLS</td>       <th>  Log-Likelihood:    </th> <td>     nan</td> \n",
       "</tr>\n",
       "<tr>\n",
       "  <th>Date:</th>           <td>Sat, 22 Jun 2019</td> <th>  Deviance:          </th> <td>     inf</td> \n",
       "</tr>\n",
       "<tr>\n",
       "  <th>Time:</th>               <td>00:02:35</td>     <th>  Pearson chi2:      </th> <td>5.63e+15</td> \n",
       "</tr>\n",
       "<tr>\n",
       "  <th>No. Iterations:</th>         <td>3</td>        <th>  Covariance Type:   </th> <td>nonrobust</td>\n",
       "</tr>\n",
       "</table>\n",
       "<table class=\"simpletable\">\n",
       "<tr>\n",
       "            <td></td>               <th>coef</th>     <th>std err</th>      <th>z</th>      <th>P>|z|</th>  <th>[0.025</th>    <th>0.975]</th>  \n",
       "</tr>\n",
       "<tr>\n",
       "  <th>const</th>                 <td>   -1.0391</td> <td>    0.046</td> <td>  -22.429</td> <td> 0.000</td> <td>   -1.130</td> <td>   -0.948</td>\n",
       "</tr>\n",
       "<tr>\n",
       "  <th>word_freq_business:</th>   <td>    2.0978</td> <td>    0.165</td> <td>   12.725</td> <td> 0.000</td> <td>    1.775</td> <td>    2.421</td>\n",
       "</tr>\n",
       "<tr>\n",
       "  <th>word_freq_conference:</th> <td>   -2.6920</td> <td>    0.461</td> <td>   -5.841</td> <td> 0.000</td> <td>   -3.595</td> <td>   -1.789</td>\n",
       "</tr>\n",
       "<tr>\n",
       "  <th>char_freq_!:</th>          <td>    1.8693</td> <td>    0.113</td> <td>   16.605</td> <td> 0.000</td> <td>    1.649</td> <td>    2.090</td>\n",
       "</tr>\n",
       "</table>"
      ],
      "text/plain": [
       "<class 'statsmodels.iolib.summary.Summary'>\n",
       "\"\"\"\n",
       "                 Generalized Linear Model Regression Results                  \n",
       "==============================================================================\n",
       "Dep. Variable:                   spam   No. Observations:                 3450\n",
       "Model:                            GLM   Df Residuals:                     3446\n",
       "Model Family:                Binomial   Df Model:                            3\n",
       "Link Function:                  logit   Scale:                          1.0000\n",
       "Method:                          IRLS   Log-Likelihood:                    nan\n",
       "Date:                Sat, 22 Jun 2019   Deviance:                          inf\n",
       "Time:                        00:02:35   Pearson chi2:                 5.63e+15\n",
       "No. Iterations:                     3   Covariance Type:             nonrobust\n",
       "=========================================================================================\n",
       "                            coef    std err          z      P>|z|      [0.025      0.975]\n",
       "-----------------------------------------------------------------------------------------\n",
       "const                    -1.0391      0.046    -22.429      0.000      -1.130      -0.948\n",
       "word_freq_business:       2.0978      0.165     12.725      0.000       1.775       2.421\n",
       "word_freq_conference:    -2.6920      0.461     -5.841      0.000      -3.595      -1.789\n",
       "char_freq_!:              1.8693      0.113     16.605      0.000       1.649       2.090\n",
       "=========================================================================================\n",
       "\"\"\""
      ]
     },
     "execution_count": 14,
     "metadata": {},
     "output_type": "execute_result"
    }
   ],
   "source": [
    "import statsmodels.api as sm\n",
    "\n",
    "X_train_1_new = sm.add_constant(X_train_1)\n",
    "model = sm.GLM(y_train_1, X_train_1_new, family=sm.families.Binomial()).fit()\n",
    "\n",
    "model.summary()"
   ]
  },
  {
   "cell_type": "markdown",
   "metadata": {},
   "source": [
    "#9. Choose a second model from question four.  Using the same three variables in the dataset that you think will be good predictors of \"spam\".  Describe why you chose any particular parameters for your model (e.g.- if you used KNN how did you decide to choose a specific value for k).  Run the model and evaluate prediction error in two ways: A) On test data directly and B) using k-fold cross-validation.  Did this model predict test data better than your previous model?"
   ]
  },
  {
   "cell_type": "code",
   "execution_count": 15,
   "metadata": {},
   "outputs": [
    {
     "name": "stdout",
     "output_type": "stream",
     "text": [
      "accuracy: 0.80\n"
     ]
    }
   ],
   "source": [
    "#KNN is selected\n",
    "#(K=5)\n",
    "X_train_2, X_test_2, y_train_2, y_test_2 = train_test_split(X, y)\n",
    "knn = KNeighborsClassifier(n_neighbors=5)\n",
    "knn.fit(X_train_2, y_train_2)\n",
    "\n",
    "#Print accuracy rounded to two digits to the right of decimal\n",
    "print(\"accuracy: {:.2f}\".format(knn.score(X_test_2, y_test_2)))\n",
    "\n",
    "y_pred = knn.predict(X_test_2)"
   ]
  },
  {
   "cell_type": "code",
   "execution_count": 16,
   "metadata": {},
   "outputs": [
    {
     "name": "stdout",
     "output_type": "stream",
     "text": [
      "accuracy: 0.80\n"
     ]
    }
   ],
   "source": [
    "#K=10\n",
    "knn = KNeighborsClassifier(n_neighbors=10)\n",
    "knn.fit(X_train_2, y_train_2)\n",
    "\n",
    "#Print accuracy rounded to two digits to the right of decimal\n",
    "print(\"accuracy: {:.2f}\".format(knn.score(X_test_2, y_test_2)))\n",
    "\n",
    "y_pred = knn.predict(X_test_2)"
   ]
  },
  {
   "cell_type": "code",
   "execution_count": 17,
   "metadata": {},
   "outputs": [
    {
     "data": {
      "text/plain": [
       "array([0, 0, 1, ..., 0, 0, 0])"
      ]
     },
     "execution_count": 17,
     "metadata": {},
     "output_type": "execute_result"
    }
   ],
   "source": [
    "y_pred # view predictions for test data"
   ]
  },
  {
   "cell_type": "code",
   "execution_count": 18,
   "metadata": {},
   "outputs": [
    {
     "name": "stdout",
     "output_type": "stream",
     "text": [
      "KFold:\n",
      "[0.56786102 0.58478261 0.83369565 0.8923913  0.14891304]\n",
      "StratifiedKFold:\n",
      "[0.80998914 0.80238871 0.80456026 0.80195865 0.80413493]\n",
      "RepeatedKFold:\n",
      "[0.79153094 0.79782609 0.81304348 0.80217391 0.79347826 0.78284473\n",
      " 0.80543478 0.8076087  0.82717391 0.79021739 0.79261672 0.81304348\n",
      " 0.79673913 0.80978261 0.78695652 0.79587405 0.80326087 0.80978261\n",
      " 0.79891304 0.82826087 0.78935939 0.80434783 0.80217391 0.81630435\n",
      " 0.80108696 0.82084691 0.79673913 0.79891304 0.79021739 0.80108696\n",
      " 0.82410423 0.80434783 0.8        0.79021739 0.80543478 0.77415852\n",
      " 0.82065217 0.8        0.80217391 0.78043478 0.7980456  0.78152174\n",
      " 0.80978261 0.79565217 0.83369565 0.79587405 0.79130435 0.80217391\n",
      " 0.81195652 0.82065217]\n"
     ]
    }
   ],
   "source": [
    "#Cross Validation\n",
    "print(\"KFold:\\n{}\".format(\n",
    "cross_val_score(KNeighborsClassifier(), X, y, cv=kfold)))\n",
    "\n",
    "print(\"StratifiedKFold:\\n{}\".format(\n",
    "cross_val_score(KNeighborsClassifier(n_neighbors=10), X, y, cv=skfold)))\n",
    "print(\"RepeatedKFold:\\n{}\".format(\n",
    "cross_val_score(KNeighborsClassifier(n_neighbors=10), X, y, cv=rkf)))"
   ]
  },
  {
   "cell_type": "code",
   "execution_count": 19,
   "metadata": {},
   "outputs": [
    {
     "name": "stdout",
     "output_type": "stream",
     "text": [
      "best mean cross-validation score: 0.798\n",
      "best parameters: {'n_neighbors': 11}\n",
      "test-set score: 0.817\n"
     ]
    }
   ],
   "source": [
    "from sklearn.model_selection import GridSearchCV\n",
    "X_train_2, X_test_2, y_train_2, y_test_2 = train_test_split(X, y, stratify=y)\n",
    "\n",
    "#create dictionary data object with keys equal to parameter name 'n_neighbors' \n",
    "#for knn model and values equal to range of k values to create models for\n",
    "\n",
    "param_grid = {'n_neighbors': np.arange(1, 15, 2)} #np.arange creates sequence of numbers for each k value\n",
    "\n",
    "grid = GridSearchCV(KNeighborsClassifier(), param_grid=param_grid, cv=10)\n",
    "\n",
    "#use meta model methods to fit score and predict model:\n",
    "grid.fit(X_train_2, y_train_2)\n",
    "\n",
    "#extract best score and parameter by calling objects \"best_score_\" and \"best_params_\"\n",
    "print(\"best mean cross-validation score: {:.3f}\".format(grid.best_score_))\n",
    "print(\"best parameters: {}\".format(grid.best_params_))\n",
    "print(\"test-set score: {:.3f}\".format(grid.score(X_test_2, y_test_2)))"
   ]
  },
  {
   "cell_type": "code",
   "execution_count": 20,
   "metadata": {},
   "outputs": [
    {
     "name": "stderr",
     "output_type": "stream",
     "text": [
      "/anaconda3/lib/python3.6/site-packages/sklearn/utils/deprecation.py:122: FutureWarning: You are accessing a training score ('split0_train_score'), which will not be available by default any more in 0.21. If you need training scores, please set return_train_score=True\n",
      "  warnings.warn(*warn_args, **warn_kwargs)\n",
      "/anaconda3/lib/python3.6/site-packages/sklearn/utils/deprecation.py:122: FutureWarning: You are accessing a training score ('split1_train_score'), which will not be available by default any more in 0.21. If you need training scores, please set return_train_score=True\n",
      "  warnings.warn(*warn_args, **warn_kwargs)\n",
      "/anaconda3/lib/python3.6/site-packages/sklearn/utils/deprecation.py:122: FutureWarning: You are accessing a training score ('split2_train_score'), which will not be available by default any more in 0.21. If you need training scores, please set return_train_score=True\n",
      "  warnings.warn(*warn_args, **warn_kwargs)\n",
      "/anaconda3/lib/python3.6/site-packages/sklearn/utils/deprecation.py:122: FutureWarning: You are accessing a training score ('split3_train_score'), which will not be available by default any more in 0.21. If you need training scores, please set return_train_score=True\n",
      "  warnings.warn(*warn_args, **warn_kwargs)\n",
      "/anaconda3/lib/python3.6/site-packages/sklearn/utils/deprecation.py:122: FutureWarning: You are accessing a training score ('split4_train_score'), which will not be available by default any more in 0.21. If you need training scores, please set return_train_score=True\n",
      "  warnings.warn(*warn_args, **warn_kwargs)\n",
      "/anaconda3/lib/python3.6/site-packages/sklearn/utils/deprecation.py:122: FutureWarning: You are accessing a training score ('split5_train_score'), which will not be available by default any more in 0.21. If you need training scores, please set return_train_score=True\n",
      "  warnings.warn(*warn_args, **warn_kwargs)\n",
      "/anaconda3/lib/python3.6/site-packages/sklearn/utils/deprecation.py:122: FutureWarning: You are accessing a training score ('split6_train_score'), which will not be available by default any more in 0.21. If you need training scores, please set return_train_score=True\n",
      "  warnings.warn(*warn_args, **warn_kwargs)\n",
      "/anaconda3/lib/python3.6/site-packages/sklearn/utils/deprecation.py:122: FutureWarning: You are accessing a training score ('split7_train_score'), which will not be available by default any more in 0.21. If you need training scores, please set return_train_score=True\n",
      "  warnings.warn(*warn_args, **warn_kwargs)\n",
      "/anaconda3/lib/python3.6/site-packages/sklearn/utils/deprecation.py:122: FutureWarning: You are accessing a training score ('split8_train_score'), which will not be available by default any more in 0.21. If you need training scores, please set return_train_score=True\n",
      "  warnings.warn(*warn_args, **warn_kwargs)\n",
      "/anaconda3/lib/python3.6/site-packages/sklearn/utils/deprecation.py:122: FutureWarning: You are accessing a training score ('split9_train_score'), which will not be available by default any more in 0.21. If you need training scores, please set return_train_score=True\n",
      "  warnings.warn(*warn_args, **warn_kwargs)\n",
      "/anaconda3/lib/python3.6/site-packages/sklearn/utils/deprecation.py:122: FutureWarning: You are accessing a training score ('mean_train_score'), which will not be available by default any more in 0.21. If you need training scores, please set return_train_score=True\n",
      "  warnings.warn(*warn_args, **warn_kwargs)\n",
      "/anaconda3/lib/python3.6/site-packages/sklearn/utils/deprecation.py:122: FutureWarning: You are accessing a training score ('std_train_score'), which will not be available by default any more in 0.21. If you need training scores, please set return_train_score=True\n",
      "  warnings.warn(*warn_args, **warn_kwargs)\n"
     ]
    },
    {
     "data": {
      "text/html": [
       "<div>\n",
       "<style scoped>\n",
       "    .dataframe tbody tr th:only-of-type {\n",
       "        vertical-align: middle;\n",
       "    }\n",
       "\n",
       "    .dataframe tbody tr th {\n",
       "        vertical-align: top;\n",
       "    }\n",
       "\n",
       "    .dataframe thead th {\n",
       "        text-align: right;\n",
       "    }\n",
       "</style>\n",
       "<table border=\"1\" class=\"dataframe\">\n",
       "  <thead>\n",
       "    <tr style=\"text-align: right;\">\n",
       "      <th></th>\n",
       "      <th>mean_fit_time</th>\n",
       "      <th>std_fit_time</th>\n",
       "      <th>mean_score_time</th>\n",
       "      <th>std_score_time</th>\n",
       "      <th>param_n_neighbors</th>\n",
       "      <th>params</th>\n",
       "      <th>split0_test_score</th>\n",
       "      <th>split1_test_score</th>\n",
       "      <th>split2_test_score</th>\n",
       "      <th>split3_test_score</th>\n",
       "      <th>...</th>\n",
       "      <th>split2_train_score</th>\n",
       "      <th>split3_train_score</th>\n",
       "      <th>split4_train_score</th>\n",
       "      <th>split5_train_score</th>\n",
       "      <th>split6_train_score</th>\n",
       "      <th>split7_train_score</th>\n",
       "      <th>split8_train_score</th>\n",
       "      <th>split9_train_score</th>\n",
       "      <th>mean_train_score</th>\n",
       "      <th>std_train_score</th>\n",
       "    </tr>\n",
       "  </thead>\n",
       "  <tbody>\n",
       "    <tr>\n",
       "      <th>0</th>\n",
       "      <td>0.005097</td>\n",
       "      <td>0.000254</td>\n",
       "      <td>0.002500</td>\n",
       "      <td>0.000184</td>\n",
       "      <td>1</td>\n",
       "      <td>{'n_neighbors': 1}</td>\n",
       "      <td>0.806358</td>\n",
       "      <td>0.773913</td>\n",
       "      <td>0.817391</td>\n",
       "      <td>0.791304</td>\n",
       "      <td>...</td>\n",
       "      <td>0.892754</td>\n",
       "      <td>0.897262</td>\n",
       "      <td>0.891787</td>\n",
       "      <td>0.895330</td>\n",
       "      <td>0.895008</td>\n",
       "      <td>0.895008</td>\n",
       "      <td>0.892110</td>\n",
       "      <td>0.889569</td>\n",
       "      <td>0.893945</td>\n",
       "      <td>0.002184</td>\n",
       "    </tr>\n",
       "    <tr>\n",
       "      <th>1</th>\n",
       "      <td>0.005230</td>\n",
       "      <td>0.000393</td>\n",
       "      <td>0.002776</td>\n",
       "      <td>0.000272</td>\n",
       "      <td>3</td>\n",
       "      <td>{'n_neighbors': 3}</td>\n",
       "      <td>0.794798</td>\n",
       "      <td>0.811594</td>\n",
       "      <td>0.814493</td>\n",
       "      <td>0.469565</td>\n",
       "      <td>...</td>\n",
       "      <td>0.859903</td>\n",
       "      <td>0.523027</td>\n",
       "      <td>0.523671</td>\n",
       "      <td>0.864734</td>\n",
       "      <td>0.527536</td>\n",
       "      <td>0.861192</td>\n",
       "      <td>0.859903</td>\n",
       "      <td>0.865422</td>\n",
       "      <td>0.760612</td>\n",
       "      <td>0.154428</td>\n",
       "    </tr>\n",
       "    <tr>\n",
       "      <th>2</th>\n",
       "      <td>0.005154</td>\n",
       "      <td>0.000242</td>\n",
       "      <td>0.002780</td>\n",
       "      <td>0.000243</td>\n",
       "      <td>5</td>\n",
       "      <td>{'n_neighbors': 5}</td>\n",
       "      <td>0.797688</td>\n",
       "      <td>0.817391</td>\n",
       "      <td>0.805797</td>\n",
       "      <td>0.469565</td>\n",
       "      <td>...</td>\n",
       "      <td>0.841224</td>\n",
       "      <td>0.505636</td>\n",
       "      <td>0.503382</td>\n",
       "      <td>0.846699</td>\n",
       "      <td>0.840258</td>\n",
       "      <td>0.839936</td>\n",
       "      <td>0.840902</td>\n",
       "      <td>0.841275</td>\n",
       "      <td>0.774493</td>\n",
       "      <td>0.135009</td>\n",
       "    </tr>\n",
       "    <tr>\n",
       "      <th>3</th>\n",
       "      <td>0.005200</td>\n",
       "      <td>0.000222</td>\n",
       "      <td>0.002850</td>\n",
       "      <td>0.000158</td>\n",
       "      <td>7</td>\n",
       "      <td>{'n_neighbors': 7}</td>\n",
       "      <td>0.803468</td>\n",
       "      <td>0.808696</td>\n",
       "      <td>0.808696</td>\n",
       "      <td>0.481159</td>\n",
       "      <td>...</td>\n",
       "      <td>0.833494</td>\n",
       "      <td>0.493398</td>\n",
       "      <td>0.494686</td>\n",
       "      <td>0.836715</td>\n",
       "      <td>0.829952</td>\n",
       "      <td>0.832850</td>\n",
       "      <td>0.832206</td>\n",
       "      <td>0.831294</td>\n",
       "      <td>0.765250</td>\n",
       "      <td>0.135620</td>\n",
       "    </tr>\n",
       "    <tr>\n",
       "      <th>4</th>\n",
       "      <td>0.005126</td>\n",
       "      <td>0.000314</td>\n",
       "      <td>0.002908</td>\n",
       "      <td>0.000214</td>\n",
       "      <td>9</td>\n",
       "      <td>{'n_neighbors': 9}</td>\n",
       "      <td>0.797688</td>\n",
       "      <td>0.805797</td>\n",
       "      <td>0.811594</td>\n",
       "      <td>0.765217</td>\n",
       "      <td>...</td>\n",
       "      <td>0.826087</td>\n",
       "      <td>0.830596</td>\n",
       "      <td>0.827697</td>\n",
       "      <td>0.828986</td>\n",
       "      <td>0.820934</td>\n",
       "      <td>0.828019</td>\n",
       "      <td>0.826731</td>\n",
       "      <td>0.830650</td>\n",
       "      <td>0.826538</td>\n",
       "      <td>0.003276</td>\n",
       "    </tr>\n",
       "    <tr>\n",
       "      <th>5</th>\n",
       "      <td>0.005036</td>\n",
       "      <td>0.000151</td>\n",
       "      <td>0.002911</td>\n",
       "      <td>0.000172</td>\n",
       "      <td>11</td>\n",
       "      <td>{'n_neighbors': 11}</td>\n",
       "      <td>0.794798</td>\n",
       "      <td>0.814493</td>\n",
       "      <td>0.814493</td>\n",
       "      <td>0.768116</td>\n",
       "      <td>...</td>\n",
       "      <td>0.821578</td>\n",
       "      <td>0.827375</td>\n",
       "      <td>0.818680</td>\n",
       "      <td>0.828019</td>\n",
       "      <td>0.819002</td>\n",
       "      <td>0.820612</td>\n",
       "      <td>0.820934</td>\n",
       "      <td>0.822923</td>\n",
       "      <td>0.821481</td>\n",
       "      <td>0.003500</td>\n",
       "    </tr>\n",
       "    <tr>\n",
       "      <th>6</th>\n",
       "      <td>0.005253</td>\n",
       "      <td>0.000314</td>\n",
       "      <td>0.003220</td>\n",
       "      <td>0.000598</td>\n",
       "      <td>13</td>\n",
       "      <td>{'n_neighbors': 13}</td>\n",
       "      <td>0.789017</td>\n",
       "      <td>0.817391</td>\n",
       "      <td>0.805797</td>\n",
       "      <td>0.762319</td>\n",
       "      <td>...</td>\n",
       "      <td>0.813527</td>\n",
       "      <td>0.821256</td>\n",
       "      <td>0.817713</td>\n",
       "      <td>0.826087</td>\n",
       "      <td>0.817713</td>\n",
       "      <td>0.816747</td>\n",
       "      <td>0.815781</td>\n",
       "      <td>0.819704</td>\n",
       "      <td>0.817810</td>\n",
       "      <td>0.003597</td>\n",
       "    </tr>\n",
       "  </tbody>\n",
       "</table>\n",
       "<p>7 rows × 31 columns</p>\n",
       "</div>"
      ],
      "text/plain": [
       "   mean_fit_time  std_fit_time  mean_score_time  std_score_time  \\\n",
       "0       0.005097      0.000254         0.002500        0.000184   \n",
       "1       0.005230      0.000393         0.002776        0.000272   \n",
       "2       0.005154      0.000242         0.002780        0.000243   \n",
       "3       0.005200      0.000222         0.002850        0.000158   \n",
       "4       0.005126      0.000314         0.002908        0.000214   \n",
       "5       0.005036      0.000151         0.002911        0.000172   \n",
       "6       0.005253      0.000314         0.003220        0.000598   \n",
       "\n",
       "  param_n_neighbors               params  split0_test_score  \\\n",
       "0                 1   {'n_neighbors': 1}           0.806358   \n",
       "1                 3   {'n_neighbors': 3}           0.794798   \n",
       "2                 5   {'n_neighbors': 5}           0.797688   \n",
       "3                 7   {'n_neighbors': 7}           0.803468   \n",
       "4                 9   {'n_neighbors': 9}           0.797688   \n",
       "5                11  {'n_neighbors': 11}           0.794798   \n",
       "6                13  {'n_neighbors': 13}           0.789017   \n",
       "\n",
       "   split1_test_score  split2_test_score  split3_test_score       ...         \\\n",
       "0           0.773913           0.817391           0.791304       ...          \n",
       "1           0.811594           0.814493           0.469565       ...          \n",
       "2           0.817391           0.805797           0.469565       ...          \n",
       "3           0.808696           0.808696           0.481159       ...          \n",
       "4           0.805797           0.811594           0.765217       ...          \n",
       "5           0.814493           0.814493           0.768116       ...          \n",
       "6           0.817391           0.805797           0.762319       ...          \n",
       "\n",
       "   split2_train_score  split3_train_score  split4_train_score  \\\n",
       "0            0.892754            0.897262            0.891787   \n",
       "1            0.859903            0.523027            0.523671   \n",
       "2            0.841224            0.505636            0.503382   \n",
       "3            0.833494            0.493398            0.494686   \n",
       "4            0.826087            0.830596            0.827697   \n",
       "5            0.821578            0.827375            0.818680   \n",
       "6            0.813527            0.821256            0.817713   \n",
       "\n",
       "   split5_train_score  split6_train_score  split7_train_score  \\\n",
       "0            0.895330            0.895008            0.895008   \n",
       "1            0.864734            0.527536            0.861192   \n",
       "2            0.846699            0.840258            0.839936   \n",
       "3            0.836715            0.829952            0.832850   \n",
       "4            0.828986            0.820934            0.828019   \n",
       "5            0.828019            0.819002            0.820612   \n",
       "6            0.826087            0.817713            0.816747   \n",
       "\n",
       "   split8_train_score  split9_train_score  mean_train_score  std_train_score  \n",
       "0            0.892110            0.889569          0.893945         0.002184  \n",
       "1            0.859903            0.865422          0.760612         0.154428  \n",
       "2            0.840902            0.841275          0.774493         0.135009  \n",
       "3            0.832206            0.831294          0.765250         0.135620  \n",
       "4            0.826731            0.830650          0.826538         0.003276  \n",
       "5            0.820934            0.822923          0.821481         0.003500  \n",
       "6            0.815781            0.819704          0.817810         0.003597  \n",
       "\n",
       "[7 rows x 31 columns]"
      ]
     },
     "execution_count": 20,
     "metadata": {},
     "output_type": "execute_result"
    }
   ],
   "source": [
    "# view data with complete tuning results\n",
    "results = pd.DataFrame(grid.cv_results_)\n",
    "results"
   ]
  },
  {
   "cell_type": "markdown",
   "metadata": {},
   "source": [
    "#10. Choose a third model from question four.  Using the same three variables in the dataset that you think will be good predictors of \"spam\".  Describe why you chose any particular parameters for your model (e.g.- if you used KNN how did you decide to choose a specific value for k). Run the model and evaluate prediction error in two ways: A) On test data directly and B) using k-fold cross-validation.  Did this model predict test data better than your previous models?"
   ]
  },
  {
   "cell_type": "code",
   "execution_count": 21,
   "metadata": {},
   "outputs": [
    {
     "name": "stdout",
     "output_type": "stream",
     "text": [
      "lr.coef_: [ 0.25221812 -0.10849558  0.2639728 ]\n",
      "lr.intercept_: 0.2952086136487615\n"
     ]
    }
   ],
   "source": [
    "#Linear Regerssion is chosen\n",
    "from sklearn.linear_model import LinearRegression\n",
    "X_train_3, X_test_3, y_train_3, y_test_3 = train_test_split(X, y, random_state=622)\n",
    "lr = LinearRegression().fit(X_train_3, y_train_3)\n",
    "\n",
    "#The “slope” parameters (w), also called weights or coefficients, are stored in the coef_\n",
    "#..attribute, while the offset or intercept (b) is stored in the intercept_ attribute:\n",
    "\n",
    "print(\"lr.coef_: {}\".format(lr.coef_))\n",
    "print(\"lr.intercept_: {}\".format(lr.intercept_))"
   ]
  },
  {
   "cell_type": "code",
   "execution_count": 22,
   "metadata": {},
   "outputs": [
    {
     "data": {
      "text/plain": [
       "array([0.2271624 , 0.212727  , 0.2376992 , 0.15792242, 0.15433743,\n",
       "       0.15192034, 0.0712923 , 0.17609263, 0.18833643, 0.14389318])"
      ]
     },
     "execution_count": 22,
     "metadata": {},
     "output_type": "execute_result"
    }
   ],
   "source": [
    "cross_val_score(LinearRegression(), X_train_3, y_train_3, cv=10)"
   ]
  },
  {
   "cell_type": "code",
   "execution_count": 23,
   "metadata": {},
   "outputs": [
    {
     "name": "stdout",
     "output_type": "stream",
     "text": [
      "Training set score: 0.18\n",
      "Test set score: -0.24\n"
     ]
    }
   ],
   "source": [
    "# Let’s look at the training set and test set performance using r squared:\n",
    "\n",
    "print(\"Training set score: {:.2f}\".format(lr.score(X_train_3, y_train_3)))\n",
    "print(\"Test set score: {:.2f}\".format(lr.score(X_test_3, y_test_3)))"
   ]
  },
  {
   "cell_type": "code",
   "execution_count": 24,
   "metadata": {},
   "outputs": [
    {
     "data": {
      "text/html": [
       "<table class=\"simpletable\">\n",
       "<caption>OLS Regression Results</caption>\n",
       "<tr>\n",
       "  <th>Dep. Variable:</th>          <td>spam</td>       <th>  R-squared:         </th> <td>   0.180</td> \n",
       "</tr>\n",
       "<tr>\n",
       "  <th>Model:</th>                   <td>OLS</td>       <th>  Adj. R-squared:    </th> <td>   0.179</td> \n",
       "</tr>\n",
       "<tr>\n",
       "  <th>Method:</th>             <td>Least Squares</td>  <th>  F-statistic:       </th> <td>   251.9</td> \n",
       "</tr>\n",
       "<tr>\n",
       "  <th>Date:</th>             <td>Sat, 22 Jun 2019</td> <th>  Prob (F-statistic):</th> <td>8.13e-148</td>\n",
       "</tr>\n",
       "<tr>\n",
       "  <th>Time:</th>                 <td>00:02:39</td>     <th>  Log-Likelihood:    </th> <td> -2084.2</td> \n",
       "</tr>\n",
       "<tr>\n",
       "  <th>No. Observations:</th>      <td>  3450</td>      <th>  AIC:               </th> <td>   4176.</td> \n",
       "</tr>\n",
       "<tr>\n",
       "  <th>Df Residuals:</th>          <td>  3446</td>      <th>  BIC:               </th> <td>   4201.</td> \n",
       "</tr>\n",
       "<tr>\n",
       "  <th>Df Model:</th>              <td>     3</td>      <th>                     </th>     <td> </td>    \n",
       "</tr>\n",
       "<tr>\n",
       "  <th>Covariance Type:</th>      <td>nonrobust</td>    <th>                     </th>     <td> </td>    \n",
       "</tr>\n",
       "</table>\n",
       "<table class=\"simpletable\">\n",
       "<tr>\n",
       "            <td></td>               <th>coef</th>     <th>std err</th>      <th>t</th>      <th>P>|t|</th>  <th>[0.025</th>    <th>0.975]</th>  \n",
       "</tr>\n",
       "<tr>\n",
       "  <th>const</th>                 <td>    0.2952</td> <td>    0.009</td> <td>   34.658</td> <td> 0.000</td> <td>    0.279</td> <td>    0.312</td>\n",
       "</tr>\n",
       "<tr>\n",
       "  <th>word_freq_business:</th>   <td>    0.2522</td> <td>    0.018</td> <td>   14.122</td> <td> 0.000</td> <td>    0.217</td> <td>    0.287</td>\n",
       "</tr>\n",
       "<tr>\n",
       "  <th>word_freq_conference:</th> <td>   -0.1085</td> <td>    0.025</td> <td>   -4.346</td> <td> 0.000</td> <td>   -0.157</td> <td>   -0.060</td>\n",
       "</tr>\n",
       "<tr>\n",
       "  <th>char_freq_!:</th>          <td>    0.2640</td> <td>    0.013</td> <td>   21.046</td> <td> 0.000</td> <td>    0.239</td> <td>    0.289</td>\n",
       "</tr>\n",
       "</table>\n",
       "<table class=\"simpletable\">\n",
       "<tr>\n",
       "  <th>Omnibus:</th>       <td>192.995</td> <th>  Durbin-Watson:     </th> <td>   1.973</td>\n",
       "</tr>\n",
       "<tr>\n",
       "  <th>Prob(Omnibus):</th> <td> 0.000</td>  <th>  Jarque-Bera (JB):  </th> <td> 129.243</td>\n",
       "</tr>\n",
       "<tr>\n",
       "  <th>Skew:</th>          <td> 0.358</td>  <th>  Prob(JB):          </th> <td>8.61e-29</td>\n",
       "</tr>\n",
       "<tr>\n",
       "  <th>Kurtosis:</th>      <td> 2.378</td>  <th>  Cond. No.          </th> <td>    3.52</td>\n",
       "</tr>\n",
       "</table><br/><br/>Warnings:<br/>[1] Standard Errors assume that the covariance matrix of the errors is correctly specified."
      ],
      "text/plain": [
       "<class 'statsmodels.iolib.summary.Summary'>\n",
       "\"\"\"\n",
       "                            OLS Regression Results                            \n",
       "==============================================================================\n",
       "Dep. Variable:                   spam   R-squared:                       0.180\n",
       "Model:                            OLS   Adj. R-squared:                  0.179\n",
       "Method:                 Least Squares   F-statistic:                     251.9\n",
       "Date:                Sat, 22 Jun 2019   Prob (F-statistic):          8.13e-148\n",
       "Time:                        00:02:39   Log-Likelihood:                -2084.2\n",
       "No. Observations:                3450   AIC:                             4176.\n",
       "Df Residuals:                    3446   BIC:                             4201.\n",
       "Df Model:                           3                                         \n",
       "Covariance Type:            nonrobust                                         \n",
       "=========================================================================================\n",
       "                            coef    std err          t      P>|t|      [0.025      0.975]\n",
       "-----------------------------------------------------------------------------------------\n",
       "const                     0.2952      0.009     34.658      0.000       0.279       0.312\n",
       "word_freq_business:       0.2522      0.018     14.122      0.000       0.217       0.287\n",
       "word_freq_conference:    -0.1085      0.025     -4.346      0.000      -0.157      -0.060\n",
       "char_freq_!:              0.2640      0.013     21.046      0.000       0.239       0.289\n",
       "==============================================================================\n",
       "Omnibus:                      192.995   Durbin-Watson:                   1.973\n",
       "Prob(Omnibus):                  0.000   Jarque-Bera (JB):              129.243\n",
       "Skew:                           0.358   Prob(JB):                     8.61e-29\n",
       "Kurtosis:                       2.378   Cond. No.                         3.52\n",
       "==============================================================================\n",
       "\n",
       "Warnings:\n",
       "[1] Standard Errors assume that the covariance matrix of the errors is correctly specified.\n",
       "\"\"\""
      ]
     },
     "execution_count": 24,
     "metadata": {},
     "output_type": "execute_result"
    }
   ],
   "source": [
    "X_train_3_new = sm.add_constant(X_train_3)\n",
    "model = sm.OLS(y_train_3, X_train_3_new ).fit()\n",
    "\n",
    "model.summary()"
   ]
  },
  {
   "cell_type": "markdown",
   "metadata": {},
   "source": [
    "#11. Choose a fourth model from question four.  Using the same three variables in the dataset that you think will be good predictors of \"spam\".  Describe why you chose any particular parameters for your model (e.g.- if you used KNN how did you decide to choose a specific value for k). Run the model and evaluate prediction error in two ways: A) On test data directly and B) using k-fold cross-validation.  Did this model predict test data better than your previous models?"
   ]
  },
  {
   "cell_type": "code",
   "execution_count": 25,
   "metadata": {},
   "outputs": [
    {
     "name": "stderr",
     "output_type": "stream",
     "text": [
      "/anaconda3/lib/python3.6/site-packages/sklearn/ensemble/weight_boosting.py:29: DeprecationWarning: numpy.core.umath_tests is an internal NumPy module and should not be imported. It will be removed in a future NumPy release.\n",
      "  from numpy.core.umath_tests import inner1d\n"
     ]
    }
   ],
   "source": [
    "#Random Forest is chosen\n",
    "from sklearn.ensemble import RandomForestClassifier\n",
    "X_train_4, X_test_4, y_train_4, y_test_4 = train_test_split(X, y,\n",
    "                                                random_state=623)\n",
    "model = RandomForestClassifier(n_estimators=1000)\n",
    "model.fit(X_train_4, y_train_4)\n",
    "y_pred_2 = model.predict(X_test_4)"
   ]
  },
  {
   "cell_type": "code",
   "execution_count": 26,
   "metadata": {},
   "outputs": [
    {
     "data": {
      "text/plain": [
       "array([0.78901734, 0.80635838, 0.76011561, 0.80346821, 0.79710145,\n",
       "       0.7884058 , 0.8255814 , 0.79360465, 0.81104651, 0.7877907 ])"
      ]
     },
     "execution_count": 26,
     "metadata": {},
     "output_type": "execute_result"
    }
   ],
   "source": [
    "#Cross validation\n",
    "cross_val_score(RandomForestClassifier(), X_train_4, y_train_4, cv=10)"
   ]
  },
  {
   "cell_type": "code",
   "execution_count": 27,
   "metadata": {},
   "outputs": [
    {
     "name": "stdout",
     "output_type": "stream",
     "text": [
      "             precision    recall  f1-score   support\n",
      "\n",
      "          0       0.86      0.81      0.83       726\n",
      "          1       0.70      0.77      0.73       425\n",
      "\n",
      "avg / total       0.80      0.79      0.80      1151\n",
      "\n"
     ]
    }
   ],
   "source": [
    "from sklearn import metrics\n",
    "print(metrics.classification_report(y_pred_2, y_test_4))"
   ]
  },
  {
   "cell_type": "code",
   "execution_count": 28,
   "metadata": {},
   "outputs": [
    {
     "data": {
      "image/png": "[encoded data removed]",
      "text/plain": [
       "<Figure size 432x288 with 1 Axes>"
      ]
     },
     "metadata": {},
     "output_type": "display_data"
    }
   ],
   "source": [
    "from sklearn.metrics import confusion_matrix\n",
    "mat = confusion_matrix(y_test_4, y_pred_2)\n",
    "sns.heatmap(mat.T, square=True, annot=True, fmt='d', cbar=False)\n",
    "plt.xlabel('true label')\n",
    "plt.ylabel('predicted label');"
   ]
  },
  {
   "cell_type": "markdown",
   "metadata": {},
   "source": [
    "#12. Now rerun your best model from questions 8 through 11, but this time add three new variables to the model that you think will increase prediction accuracy.  Did this model predict test data better than your previous models?  \n"
   ]
  },
  {
   "cell_type": "markdown",
   "metadata": {},
   "source": [
    "The best model is KNN as the accuracy is 0.816. The three new varaibles I select are 'word_freq_you', 'char_freq_[', and capital_run_length_total."
   ]
  },
  {
   "cell_type": "code",
   "execution_count": 29,
   "metadata": {},
   "outputs": [
    {
     "name": "stdout",
     "output_type": "stream",
     "text": [
      "0    1.93\n",
      "1    3.47\n",
      "2    1.36\n",
      "3    3.18\n",
      "4    3.18\n",
      "Name: word_freq_you:, dtype: float64\n",
      "0    0.0\n",
      "1    0.0\n",
      "2    0.0\n",
      "3    0.0\n",
      "4    0.0\n",
      "Name: char_freq_[:, dtype: float64\n",
      "0     278\n",
      "1    1028\n",
      "2    2259\n",
      "3     191\n",
      "4     191\n",
      "Name: capital_run_length_total:, dtype: int64\n"
     ]
    }
   ],
   "source": [
    "\n",
    "#X1=df.iloc[:, 16]   #business\n",
    "#X2=df.iloc[:, 47] #conference\n",
    "#X3=df.iloc[:,51] #CHAR_!\n",
    "\n",
    "X4=df.iloc[:, 18]\n",
    "X5=df.iloc[:, 50]\n",
    "X6=df.iloc[:,-2]\n",
    "\n",
    "print (X4.head())\n",
    "print(X5.head())\n",
    "print(X6.head())"
   ]
  },
  {
   "cell_type": "code",
   "execution_count": 30,
   "metadata": {},
   "outputs": [
    {
     "data": {
      "text/html": [
       "<div>\n",
       "<style scoped>\n",
       "    .dataframe tbody tr th:only-of-type {\n",
       "        vertical-align: middle;\n",
       "    }\n",
       "\n",
       "    .dataframe tbody tr th {\n",
       "        vertical-align: top;\n",
       "    }\n",
       "\n",
       "    .dataframe thead th {\n",
       "        text-align: right;\n",
       "    }\n",
       "</style>\n",
       "<table border=\"1\" class=\"dataframe\">\n",
       "  <thead>\n",
       "    <tr style=\"text-align: right;\">\n",
       "      <th></th>\n",
       "      <th>word_freq_business:</th>\n",
       "      <th>word_freq_you:</th>\n",
       "      <th>word_freq_conference:</th>\n",
       "      <th>char_freq_[:</th>\n",
       "      <th>char_freq_!:</th>\n",
       "      <th>capital_run_length_total:</th>\n",
       "    </tr>\n",
       "  </thead>\n",
       "  <tbody>\n",
       "    <tr>\n",
       "      <th>0</th>\n",
       "      <td>0.00</td>\n",
       "      <td>1.93</td>\n",
       "      <td>0.0</td>\n",
       "      <td>0.0</td>\n",
       "      <td>0.778</td>\n",
       "      <td>278</td>\n",
       "    </tr>\n",
       "    <tr>\n",
       "      <th>1</th>\n",
       "      <td>0.07</td>\n",
       "      <td>3.47</td>\n",
       "      <td>0.0</td>\n",
       "      <td>0.0</td>\n",
       "      <td>0.372</td>\n",
       "      <td>1028</td>\n",
       "    </tr>\n",
       "    <tr>\n",
       "      <th>2</th>\n",
       "      <td>0.06</td>\n",
       "      <td>1.36</td>\n",
       "      <td>0.0</td>\n",
       "      <td>0.0</td>\n",
       "      <td>0.276</td>\n",
       "      <td>2259</td>\n",
       "    </tr>\n",
       "    <tr>\n",
       "      <th>3</th>\n",
       "      <td>0.00</td>\n",
       "      <td>3.18</td>\n",
       "      <td>0.0</td>\n",
       "      <td>0.0</td>\n",
       "      <td>0.137</td>\n",
       "      <td>191</td>\n",
       "    </tr>\n",
       "    <tr>\n",
       "      <th>4</th>\n",
       "      <td>0.00</td>\n",
       "      <td>3.18</td>\n",
       "      <td>0.0</td>\n",
       "      <td>0.0</td>\n",
       "      <td>0.135</td>\n",
       "      <td>191</td>\n",
       "    </tr>\n",
       "  </tbody>\n",
       "</table>\n",
       "</div>"
      ],
      "text/plain": [
       "   word_freq_business:  word_freq_you:  word_freq_conference:  char_freq_[:  \\\n",
       "0                 0.00            1.93                    0.0           0.0   \n",
       "1                 0.07            3.47                    0.0           0.0   \n",
       "2                 0.06            1.36                    0.0           0.0   \n",
       "3                 0.00            3.18                    0.0           0.0   \n",
       "4                 0.00            3.18                    0.0           0.0   \n",
       "\n",
       "   char_freq_!:  capital_run_length_total:  \n",
       "0         0.778                        278  \n",
       "1         0.372                       1028  \n",
       "2         0.276                       2259  \n",
       "3         0.137                        191  \n",
       "4         0.135                        191  "
      ]
     },
     "execution_count": 30,
     "metadata": {},
     "output_type": "execute_result"
    }
   ],
   "source": [
    "X_new=df.iloc[:,[16, 18, 47, 50, 51, -2]]\n",
    "X_new.head()"
   ]
  },
  {
   "cell_type": "code",
   "execution_count": 31,
   "metadata": {},
   "outputs": [
    {
     "name": "stdout",
     "output_type": "stream",
     "text": [
      "accuracy: 0.77\n"
     ]
    }
   ],
   "source": [
    "#KNN\n",
    "#k=5\n",
    "X_train_5, X_test_5, y_train_5, y_test_5 = train_test_split(X_new, y)\n",
    "knn = KNeighborsClassifier(n_neighbors=5)\n",
    "knn.fit(X_train_5, y_train_5)\n",
    "\n",
    "#Print accuracy rounded to two digits to the right of decimal\n",
    "print(\"accuracy: {:.2f}\".format(knn.score(X_test_5, y_test_5)))\n",
    "\n",
    "y_pred = knn.predict(X_test_5)"
   ]
  },
  {
   "cell_type": "code",
   "execution_count": 32,
   "metadata": {},
   "outputs": [
    {
     "name": "stdout",
     "output_type": "stream",
     "text": [
      "accuracy: 0.74\n"
     ]
    }
   ],
   "source": [
    "#k=10\n",
    "knn = KNeighborsClassifier(n_neighbors=10)\n",
    "knn.fit(X_train_5, y_train_5)\n",
    "\n",
    "#Print accuracy rounded to two digits to the right of decimal\n",
    "print(\"accuracy: {:.2f}\".format(knn.score(X_test_5, y_test_5)))\n",
    "\n",
    "y_pred = knn.predict(X_test_5)"
   ]
  },
  {
   "cell_type": "markdown",
   "metadata": {},
   "source": [
    "Thus, k=5 is selected as the parameter. And the accuracy is worse than previous one."
   ]
  },
  {
   "cell_type": "markdown",
   "metadata": {},
   "source": [
    "\n",
    "#13. Rerun all your other models with this final set of six variables, evaluate prediction error, and choose a final model.  Why did you select this model among all of the models that you ran?  "
   ]
  },
  {
   "cell_type": "code",
   "execution_count": 33,
   "metadata": {},
   "outputs": [
    {
     "name": "stdout",
     "output_type": "stream",
     "text": [
      "logreg .coef_: [[ 1.58745946e+00  2.89224549e-01 -5.46451853e+00 -2.61432989e+00\n",
      "   1.42931574e+00  1.50169334e-03]]\n",
      "Training set score: 0.782\n",
      "Test set score: 0.774\n",
      "logreg.predict: [0 0 0 ... 0 0 0]\n"
     ]
    },
    {
     "data": {
      "text/plain": [
       "LogisticRegression(C=1e+90, class_weight=None, dual=False, fit_intercept=True,\n",
       "          intercept_scaling=1, max_iter=100, multi_class='ovr', n_jobs=1,\n",
       "          penalty='l2', random_state=None, solver='liblinear', tol=0.0001,\n",
       "          verbose=0, warm_start=False)"
      ]
     },
     "execution_count": 33,
     "metadata": {},
     "output_type": "execute_result"
    }
   ],
   "source": [
    "#Logistic Regression\n",
    "X_train_6, X_test_6, y_train_6, y_test_6 = train_test_split(X_new, y, random_state=624) \n",
    "logreg = LogisticRegression(C=1e90).fit(X_train_6, y_train_6)\n",
    "\n",
    "print(\"logreg .coef_: {}\".format(logreg .coef_))\n",
    "\n",
    "print(\"Training set score: {:.3f}\".format(logreg.score(X_train_6, y_train_6)))\n",
    "print(\"Test set score: {:.3f}\".format(logreg.score(X_test_6, y_test_6)))\n",
    "\n",
    "predicted_vals = logreg.predict(X_test_6) # y_pred includes your predictions\n",
    "print(\"logreg.predict: {}\".format(predicted_vals))\n",
    "logreg"
   ]
  },
  {
   "cell_type": "code",
   "execution_count": 34,
   "metadata": {},
   "outputs": [
    {
     "data": {
      "text/plain": [
       "array([0.35504886, 0.44021739, 0.83913043, 0.87173913, 0.74347826])"
      ]
     },
     "execution_count": 34,
     "metadata": {},
     "output_type": "execute_result"
    }
   ],
   "source": [
    "cross_val_score(LogisticRegression(), X_new, y, cv=kfold)"
   ]
  },
  {
   "cell_type": "code",
   "execution_count": 35,
   "metadata": {},
   "outputs": [
    {
     "name": "stderr",
     "output_type": "stream",
     "text": [
      "/anaconda3/lib/python3.6/site-packages/statsmodels/genmod/families/family.py:880: RuntimeWarning: divide by zero encountered in true_divide\n",
      "  n_endog_mu = self._clean((1. - endog) / (1. - mu))\n",
      "/anaconda3/lib/python3.6/site-packages/statsmodels/genmod/families/family.py:932: RuntimeWarning: divide by zero encountered in true_divide\n",
      "  special.gammaln(n - y + 1) + y * np.log(mu / (1 - mu)) +\n",
      "/anaconda3/lib/python3.6/site-packages/statsmodels/genmod/families/family.py:932: RuntimeWarning: invalid value encountered in multiply\n",
      "  special.gammaln(n - y + 1) + y * np.log(mu / (1 - mu)) +\n",
      "/anaconda3/lib/python3.6/site-packages/statsmodels/genmod/families/family.py:933: RuntimeWarning: divide by zero encountered in log\n",
      "  n * np.log(1 - mu)) * var_weights\n"
     ]
    },
    {
     "data": {
      "text/html": [
       "<table class=\"simpletable\">\n",
       "<caption>Generalized Linear Model Regression Results</caption>\n",
       "<tr>\n",
       "  <th>Dep. Variable:</th>        <td>spam</td>       <th>  No. Observations:  </th>  <td>  3450</td>  \n",
       "</tr>\n",
       "<tr>\n",
       "  <th>Model:</th>                 <td>GLM</td>       <th>  Df Residuals:      </th>  <td>  3443</td>  \n",
       "</tr>\n",
       "<tr>\n",
       "  <th>Model Family:</th>       <td>Binomial</td>     <th>  Df Model:          </th>  <td>     6</td>  \n",
       "</tr>\n",
       "<tr>\n",
       "  <th>Link Function:</th>        <td>logit</td>      <th>  Scale:             </th> <td>  1.0000</td> \n",
       "</tr>\n",
       "<tr>\n",
       "  <th>Method:</th>               <td>IRLS</td>       <th>  Log-Likelihood:    </th> <td>     nan</td> \n",
       "</tr>\n",
       "<tr>\n",
       "  <th>Date:</th>           <td>Sat, 22 Jun 2019</td> <th>  Deviance:          </th> <td>     inf</td> \n",
       "</tr>\n",
       "<tr>\n",
       "  <th>Time:</th>               <td>00:02:42</td>     <th>  Pearson chi2:      </th> <td>4.50e+15</td> \n",
       "</tr>\n",
       "<tr>\n",
       "  <th>No. Iterations:</th>         <td>4</td>        <th>  Covariance Type:   </th> <td>nonrobust</td>\n",
       "</tr>\n",
       "</table>\n",
       "<table class=\"simpletable\">\n",
       "<tr>\n",
       "              <td></td>                 <th>coef</th>     <th>std err</th>      <th>z</th>      <th>P>|z|</th>  <th>[0.025</th>    <th>0.975]</th>  \n",
       "</tr>\n",
       "<tr>\n",
       "  <th>const</th>                     <td>   -1.8106</td> <td>    0.073</td> <td>  -24.925</td> <td> 0.000</td> <td>   -1.953</td> <td>   -1.668</td>\n",
       "</tr>\n",
       "<tr>\n",
       "  <th>word_freq_business:</th>       <td>    1.5948</td> <td>    0.153</td> <td>   10.402</td> <td> 0.000</td> <td>    1.294</td> <td>    1.895</td>\n",
       "</tr>\n",
       "<tr>\n",
       "  <th>word_freq_you:</th>            <td>    0.2891</td> <td>    0.024</td> <td>   12.196</td> <td> 0.000</td> <td>    0.243</td> <td>    0.336</td>\n",
       "</tr>\n",
       "<tr>\n",
       "  <th>word_freq_conference:</th>     <td>   -5.9316</td> <td>    0.884</td> <td>   -6.710</td> <td> 0.000</td> <td>   -7.664</td> <td>   -4.199</td>\n",
       "</tr>\n",
       "<tr>\n",
       "  <th>char_freq_[:</th>              <td>   -2.6963</td> <td>    0.861</td> <td>   -3.133</td> <td> 0.002</td> <td>   -4.383</td> <td>   -1.010</td>\n",
       "</tr>\n",
       "<tr>\n",
       "  <th>char_freq_!:</th>              <td>    1.4287</td> <td>    0.119</td> <td>   12.047</td> <td> 0.000</td> <td>    1.196</td> <td>    1.661</td>\n",
       "</tr>\n",
       "<tr>\n",
       "  <th>capital_run_length_total:</th> <td>    0.0015</td> <td>    0.000</td> <td>   12.961</td> <td> 0.000</td> <td>    0.001</td> <td>    0.002</td>\n",
       "</tr>\n",
       "</table>"
      ],
      "text/plain": [
       "<class 'statsmodels.iolib.summary.Summary'>\n",
       "\"\"\"\n",
       "                 Generalized Linear Model Regression Results                  \n",
       "==============================================================================\n",
       "Dep. Variable:                   spam   No. Observations:                 3450\n",
       "Model:                            GLM   Df Residuals:                     3443\n",
       "Model Family:                Binomial   Df Model:                            6\n",
       "Link Function:                  logit   Scale:                          1.0000\n",
       "Method:                          IRLS   Log-Likelihood:                    nan\n",
       "Date:                Sat, 22 Jun 2019   Deviance:                          inf\n",
       "Time:                        00:02:42   Pearson chi2:                 4.50e+15\n",
       "No. Iterations:                     4   Covariance Type:             nonrobust\n",
       "=============================================================================================\n",
       "                                coef    std err          z      P>|z|      [0.025      0.975]\n",
       "---------------------------------------------------------------------------------------------\n",
       "const                        -1.8106      0.073    -24.925      0.000      -1.953      -1.668\n",
       "word_freq_business:           1.5948      0.153     10.402      0.000       1.294       1.895\n",
       "word_freq_you:                0.2891      0.024     12.196      0.000       0.243       0.336\n",
       "word_freq_conference:        -5.9316      0.884     -6.710      0.000      -7.664      -4.199\n",
       "char_freq_[:                 -2.6963      0.861     -3.133      0.002      -4.383      -1.010\n",
       "char_freq_!:                  1.4287      0.119     12.047      0.000       1.196       1.661\n",
       "capital_run_length_total:     0.0015      0.000     12.961      0.000       0.001       0.002\n",
       "=============================================================================================\n",
       "\"\"\""
      ]
     },
     "execution_count": 35,
     "metadata": {},
     "output_type": "execute_result"
    }
   ],
   "source": [
    "X_train_6_new = sm.add_constant(X_train_6)\n",
    "model_6 = sm.GLM(y_train_6, X_train_6_new, family=sm.families.Binomial()).fit()\n",
    "\n",
    "model_6.summary()"
   ]
  },
  {
   "cell_type": "code",
   "execution_count": 36,
   "metadata": {},
   "outputs": [
    {
     "name": "stdout",
     "output_type": "stream",
     "text": [
      "lr.coef_: [ 2.50216452e-01  6.27437722e-02 -1.06684158e-01 -1.42953653e-01\n",
      "  8.57230655e-02  1.72601379e-04]\n",
      "lr.intercept_: 0.18458203865089523\n"
     ]
    }
   ],
   "source": [
    "#Linear Regression\n",
    "X_train_7, X_test_7, y_train_7, y_test_7 = train_test_split(X_new, y, random_state=625)\n",
    "lr = LinearRegression().fit(X_train_7, y_train_7)\n",
    "\n",
    "#The “slope” parameters (w), also called weights or coefficients, are stored in the coef_\n",
    "#..attribute, while the offset or intercept (b) is stored in the intercept_ attribute:\n",
    "\n",
    "print(\"lr.coef_: {}\".format(lr.coef_))\n",
    "print(\"lr.intercept_: {}\".format(lr.intercept_))"
   ]
  },
  {
   "cell_type": "code",
   "execution_count": 37,
   "metadata": {},
   "outputs": [
    {
     "data": {
      "text/plain": [
       "array([ 0.24224233,  0.25470955,  0.2350052 ,  0.20874053,  0.15091186,\n",
       "       -0.08828037,  0.20603581,  0.24542572,  0.23899355,  0.21183698])"
      ]
     },
     "execution_count": 37,
     "metadata": {},
     "output_type": "execute_result"
    }
   ],
   "source": [
    "cross_val_score(LinearRegression(), X_train_7, y_train_7, cv=10)"
   ]
  },
  {
   "cell_type": "code",
   "execution_count": 38,
   "metadata": {},
   "outputs": [
    {
     "name": "stdout",
     "output_type": "stream",
     "text": [
      "Training set score: 0.22\n",
      "Test set score: 0.23\n"
     ]
    }
   ],
   "source": [
    "print(\"Training set score: {:.2f}\".format(lr.score(X_train_7, y_train_7)))\n",
    "print(\"Test set score: {:.2f}\".format(lr.score(X_test_7, y_test_7)))"
   ]
  },
  {
   "cell_type": "code",
   "execution_count": 39,
   "metadata": {},
   "outputs": [
    {
     "data": {
      "text/html": [
       "<table class=\"simpletable\">\n",
       "<caption>OLS Regression Results</caption>\n",
       "<tr>\n",
       "  <th>Dep. Variable:</th>          <td>spam</td>       <th>  R-squared:         </th> <td>   0.220</td> \n",
       "</tr>\n",
       "<tr>\n",
       "  <th>Model:</th>                   <td>OLS</td>       <th>  Adj. R-squared:    </th> <td>   0.219</td> \n",
       "</tr>\n",
       "<tr>\n",
       "  <th>Method:</th>             <td>Least Squares</td>  <th>  F-statistic:       </th> <td>   162.2</td> \n",
       "</tr>\n",
       "<tr>\n",
       "  <th>Date:</th>             <td>Sat, 22 Jun 2019</td> <th>  Prob (F-statistic):</th> <td>5.76e-182</td>\n",
       "</tr>\n",
       "<tr>\n",
       "  <th>Time:</th>                 <td>00:02:42</td>     <th>  Log-Likelihood:    </th> <td> -1992.0</td> \n",
       "</tr>\n",
       "<tr>\n",
       "  <th>No. Observations:</th>      <td>  3450</td>      <th>  AIC:               </th> <td>   3998.</td> \n",
       "</tr>\n",
       "<tr>\n",
       "  <th>Df Residuals:</th>          <td>  3443</td>      <th>  BIC:               </th> <td>   4041.</td> \n",
       "</tr>\n",
       "<tr>\n",
       "  <th>Df Model:</th>              <td>     6</td>      <th>                     </th>     <td> </td>    \n",
       "</tr>\n",
       "<tr>\n",
       "  <th>Covariance Type:</th>      <td>nonrobust</td>    <th>                     </th>     <td> </td>    \n",
       "</tr>\n",
       "</table>\n",
       "<table class=\"simpletable\">\n",
       "<tr>\n",
       "              <td></td>                 <th>coef</th>     <th>std err</th>      <th>t</th>      <th>P>|t|</th>  <th>[0.025</th>    <th>0.975]</th>  \n",
       "</tr>\n",
       "<tr>\n",
       "  <th>const</th>                     <td>    0.1846</td> <td>    0.011</td> <td>   16.867</td> <td> 0.000</td> <td>    0.163</td> <td>    0.206</td>\n",
       "</tr>\n",
       "<tr>\n",
       "  <th>word_freq_business:</th>       <td>    0.2502</td> <td>    0.017</td> <td>   14.784</td> <td> 0.000</td> <td>    0.217</td> <td>    0.283</td>\n",
       "</tr>\n",
       "<tr>\n",
       "  <th>word_freq_you:</th>            <td>    0.0627</td> <td>    0.004</td> <td>   14.977</td> <td> 0.000</td> <td>    0.055</td> <td>    0.071</td>\n",
       "</tr>\n",
       "<tr>\n",
       "  <th>word_freq_conference:</th>     <td>   -0.1067</td> <td>    0.027</td> <td>   -3.991</td> <td> 0.000</td> <td>   -0.159</td> <td>   -0.054</td>\n",
       "</tr>\n",
       "<tr>\n",
       "  <th>char_freq_[:</th>              <td>   -0.1430</td> <td>    0.065</td> <td>   -2.214</td> <td> 0.027</td> <td>   -0.270</td> <td>   -0.016</td>\n",
       "</tr>\n",
       "<tr>\n",
       "  <th>char_freq_!:</th>              <td>    0.0857</td> <td>    0.008</td> <td>   10.155</td> <td> 0.000</td> <td>    0.069</td> <td>    0.102</td>\n",
       "</tr>\n",
       "<tr>\n",
       "  <th>capital_run_length_total:</th> <td>    0.0002</td> <td> 1.14e-05</td> <td>   15.191</td> <td> 0.000</td> <td>    0.000</td> <td>    0.000</td>\n",
       "</tr>\n",
       "</table>\n",
       "<table class=\"simpletable\">\n",
       "<tr>\n",
       "  <th>Omnibus:</th>       <td>30.753</td> <th>  Durbin-Watson:     </th> <td>   2.019</td>\n",
       "</tr>\n",
       "<tr>\n",
       "  <th>Prob(Omnibus):</th> <td> 0.000</td> <th>  Jarque-Bera (JB):  </th> <td>  31.655</td>\n",
       "</tr>\n",
       "<tr>\n",
       "  <th>Skew:</th>          <td> 0.218</td> <th>  Prob(JB):          </th> <td>1.34e-07</td>\n",
       "</tr>\n",
       "<tr>\n",
       "  <th>Kurtosis:</th>      <td> 3.175</td> <th>  Cond. No.          </th> <td>6.25e+03</td>\n",
       "</tr>\n",
       "</table><br/><br/>Warnings:<br/>[1] Standard Errors assume that the covariance matrix of the errors is correctly specified.<br/>[2] The condition number is large, 6.25e+03. This might indicate that there are<br/>strong multicollinearity or other numerical problems."
      ],
      "text/plain": [
       "<class 'statsmodels.iolib.summary.Summary'>\n",
       "\"\"\"\n",
       "                            OLS Regression Results                            \n",
       "==============================================================================\n",
       "Dep. Variable:                   spam   R-squared:                       0.220\n",
       "Model:                            OLS   Adj. R-squared:                  0.219\n",
       "Method:                 Least Squares   F-statistic:                     162.2\n",
       "Date:                Sat, 22 Jun 2019   Prob (F-statistic):          5.76e-182\n",
       "Time:                        00:02:42   Log-Likelihood:                -1992.0\n",
       "No. Observations:                3450   AIC:                             3998.\n",
       "Df Residuals:                    3443   BIC:                             4041.\n",
       "Df Model:                           6                                         \n",
       "Covariance Type:            nonrobust                                         \n",
       "=============================================================================================\n",
       "                                coef    std err          t      P>|t|      [0.025      0.975]\n",
       "---------------------------------------------------------------------------------------------\n",
       "const                         0.1846      0.011     16.867      0.000       0.163       0.206\n",
       "word_freq_business:           0.2502      0.017     14.784      0.000       0.217       0.283\n",
       "word_freq_you:                0.0627      0.004     14.977      0.000       0.055       0.071\n",
       "word_freq_conference:        -0.1067      0.027     -3.991      0.000      -0.159      -0.054\n",
       "char_freq_[:                 -0.1430      0.065     -2.214      0.027      -0.270      -0.016\n",
       "char_freq_!:                  0.0857      0.008     10.155      0.000       0.069       0.102\n",
       "capital_run_length_total:     0.0002   1.14e-05     15.191      0.000       0.000       0.000\n",
       "==============================================================================\n",
       "Omnibus:                       30.753   Durbin-Watson:                   2.019\n",
       "Prob(Omnibus):                  0.000   Jarque-Bera (JB):               31.655\n",
       "Skew:                           0.218   Prob(JB):                     1.34e-07\n",
       "Kurtosis:                       3.175   Cond. No.                     6.25e+03\n",
       "==============================================================================\n",
       "\n",
       "Warnings:\n",
       "[1] Standard Errors assume that the covariance matrix of the errors is correctly specified.\n",
       "[2] The condition number is large, 6.25e+03. This might indicate that there are\n",
       "strong multicollinearity or other numerical problems.\n",
       "\"\"\""
      ]
     },
     "execution_count": 39,
     "metadata": {},
     "output_type": "execute_result"
    }
   ],
   "source": [
    "X_train_7_new = sm.add_constant(X_train_7)\n",
    "model_7 = sm.OLS(y_train_7, X_train_7_new ).fit()\n",
    "\n",
    "model_7.summary()"
   ]
  },
  {
   "cell_type": "code",
   "execution_count": 40,
   "metadata": {},
   "outputs": [
    {
     "data": {
      "text/plain": [
       "array([0.79479769, 0.75433526, 0.80869565, 0.79710145, 0.77971014,\n",
       "       0.81449275, 0.7826087 , 0.8173913 , 0.80232558, 0.80813953])"
      ]
     },
     "execution_count": 40,
     "metadata": {},
     "output_type": "execute_result"
    }
   ],
   "source": [
    "#Random Forest\n",
    "from sklearn.ensemble import RandomForestClassifier\n",
    "X_train_8, X_test_8, y_train_8, y_test_8 = train_test_split(X, y,\n",
    "                                                random_state=626)\n",
    "cross_val_score(RandomForestClassifier(), X_train_8, y_train_8, cv=10)\n"
   ]
  },
  {
   "cell_type": "code",
   "execution_count": 41,
   "metadata": {},
   "outputs": [],
   "source": [
    "model_8 = RandomForestClassifier(n_estimators=1000)\n",
    "model_8.fit(X_train_4, y_train_4)\n",
    "y_pred_8 = model.predict(X_test_8)"
   ]
  },
  {
   "cell_type": "code",
   "execution_count": 42,
   "metadata": {},
   "outputs": [
    {
     "name": "stdout",
     "output_type": "stream",
     "text": [
      "             precision    recall  f1-score   support\n",
      "\n",
      "          0       0.91      0.87      0.89       727\n",
      "          1       0.79      0.86      0.82       424\n",
      "\n",
      "avg / total       0.87      0.86      0.86      1151\n",
      "\n"
     ]
    }
   ],
   "source": [
    "print(metrics.classification_report(y_pred_8, y_test_8))"
   ]
  },
  {
   "cell_type": "code",
   "execution_count": 43,
   "metadata": {},
   "outputs": [
    {
     "data": {
      "image/png": "[encoded data removed]",
      "text/plain": [
       "<Figure size 432x288 with 1 Axes>"
      ]
     },
     "metadata": {},
     "output_type": "display_data"
    }
   ],
   "source": [
    "mat_1 = confusion_matrix(y_test_8, y_pred_8)\n",
    "sns.heatmap(mat_1.T, square=True, annot=True, fmt='d', cbar=False)\n",
    "plt.xlabel('true label')\n",
    "plt.ylabel('predicted label');"
   ]
  },
  {
   "cell_type": "markdown",
   "metadata": {},
   "source": [
    "#14. What variable that currently is not in your model, if included, would be likely to increase your final model's predictive power?"
   ]
  },
  {
   "cell_type": "markdown",
   "metadata": {},
   "source": [
    "The name of the email address. Some spam email's address has some specific characters and I think it is worth tokenizing"
   ]
  },
  {
   "cell_type": "markdown",
   "metadata": {},
   "source": [
    "\n",
    "#15. Lastly, you have listed each of the models that we have learned to use to predict dependent variables like spam.  List each model we have focused on in class thus far that you could use to evaluate data with a continuous dependent variable.   (Include models we have learned through class 5 only)."
   ]
  },
  {
   "cell_type": "markdown",
   "metadata": {},
   "source": [
    "1. K-Nearest Neighborhood;\n",
    "2. Linear Regression;\n",
    "3. Support Vector Machine;\n",
    "4. Decision Tree;\n",
    "5. Random Forest;"
   ]
  },
  {
   "cell_type": "code",
   "execution_count": null,
   "metadata": {},
   "outputs": [],
   "source": []
  }
 ],
 "metadata": {
  "kernelspec": {
   "display_name": "Python 3",
   "language": "python",
   "name": "python3"
  },
  "language_info": {
   "codemirror_mode": {
    "name": "ipython",
    "version": 3
   },
   "file_extension": ".py",
   "mimetype": "text/x-python",
   "name": "python",
   "nbconvert_exporter": "python",
   "pygments_lexer": "ipython3",
   "version": "3.6.5"
  }
 },
 "nbformat": 4,
 "nbformat_minor": 2
}
